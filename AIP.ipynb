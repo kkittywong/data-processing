{
 "cells": [
  {
   "cell_type": "markdown",
   "metadata": {},
   "source": [
    "### Import Libraries"
   ]
  },
  {
   "cell_type": "code",
   "execution_count": 1,
   "metadata": {},
   "outputs": [],
   "source": [
    "import pandas as pd\n",
    "import numpy as np\n",
    "import glob"
   ]
  },
  {
   "cell_type": "markdown",
   "metadata": {},
   "source": [
    "### Define File Paths"
   ]
  },
  {
   "cell_type": "code",
   "execution_count": 2,
   "metadata": {},
   "outputs": [],
   "source": [
    "profit_detail = [i for i in glob.glob('PROFIT_DETAIL/*_*.csv') if i[-10:-4] >= '202304']\n",
    "bbpos = glob.glob('bbposmsl-merchant/*-*-??????.csv')\n",
    "mdr = [i for i in glob.glob('MDR/*') if i[-12:-5] >= '2024-02']"
   ]
  },
  {
   "cell_type": "markdown",
   "metadata": {},
   "source": [
    "### Process AIP ID.csv"
   ]
  },
  {
   "cell_type": "code",
   "execution_count": 4,
   "metadata": {},
   "outputs": [],
   "source": [
    "aipid = pd.read_csv('AIP ID.csv')\n",
    "\n",
    "# Store test Merchant No to a list\n",
    "test = aipid.loc[aipid['Test'] == 1, 'Merchant No'].to_list()\n",
    "\n",
    "aipid = aipid[['Merchant No', 'BBPOS Merchant ID']].dropna()\n",
    "aipid['BBPOS Merchant ID'] = aipid['BBPOS Merchant ID'].map(int)"
   ]
  },
  {
   "cell_type": "markdown",
   "metadata": {},
   "source": [
    "### Create Dataframe for all combinations of Merchant No and Merchant ID"
   ]
  },
  {
   "cell_type": "code",
   "execution_count": 19,
   "metadata": {},
   "outputs": [],
   "source": [
    "mid = pd.DataFrame()\n",
    "\n",
    "for file in bbpos:\n",
    "    df = pd.read_csv(file, usecols=['Merchant No', 'BBPOS Merchant ID'], dtype=str).dropna()\n",
    "    df['Merchant No'] = df['Merchant No'].str.replace('\"', '').str.strip().str.lstrip('0').str[:15]\n",
    "    df = df[df['Merchant No'] != '']\n",
    "    df = df.map(int)\n",
    "    mid = pd.concat([mid, df]).drop_duplicates()\n",
    "\n",
    "mid = mid.groupby('Merchant No', as_index=False)['BBPOS Merchant ID'].max()\n",
    "mid = pd.concat([mid, aipid]).drop_duplicates()"
   ]
  },
  {
   "cell_type": "markdown",
   "metadata": {},
   "source": [
    "### Combine Test Merchant No from AIP ID.csv and Excluded.csv"
   ]
  },
  {
   "cell_type": "code",
   "execution_count": 12,
   "metadata": {},
   "outputs": [],
   "source": [
    "test_mid = pd.read_csv('Excluded.csv').iloc[:, 0].to_list()\n",
    "test_mid = mid[mid['BBPOS Merchant ID'].isin(test_mid)]['Merchant No'].to_list()"
   ]
  },
  {
   "cell_type": "code",
   "execution_count": 13,
   "metadata": {},
   "outputs": [],
   "source": [
    "test += test_mid\n",
    "test = list(set(test))"
   ]
  },
  {
   "cell_type": "markdown",
   "metadata": {},
   "source": [
    "### Preprocess PROFIT_DETAIL, Split into two parts (< 2024-02 & >= 2024-02)"
   ]
  },
  {
   "cell_type": "code",
   "execution_count": null,
   "metadata": {},
   "outputs": [],
   "source": [
    "cols = ['Transaction Time', 'Merchant No', 'MCC', 'SME Flag', 'Product', 'Transaction Type', 'Card Organization', 'Card interal', 'Settlement Amount', 'Transaction Fee', 'Service Fee profit']\n",
    "monthly, daily = pd.DataFrame(), pd.DataFrame()\n",
    "\n",
    "for file in profit_detail:\n",
    "    df = pd.read_csv(file, usecols=cols, dtype={'Merchant No': str, 'MCC': str}, encoding='gbk')\n",
    "    df = df[df['Product'].isin(['POSPRODUCT', 'QR', 'INSTOREQR']) & df['Transaction Type'].isin(['SALES', 'TIPS_ADJUST', 'PRE_AUTH_COMPLETE', 'UNIONPAY_MICROPAY', 'UNIONPAY_SCANCODE'])]\n",
    "    df['Merchant No'] = df['Merchant No'].replace('=|\"', '', regex=True)\n",
    "    df[['Merchant No', 'MCC']] = df[['Merchant No', 'MCC']].map(int)\n",
    "    df = df[~df['Merchant No'].isin(test)]\n",
    "    df.loc[df['Transaction Type'].isin(['UNIONPAY_MICROPAY', 'UNIONPAY_SCANCODE']) & df['Card Organization'].isna(), 'Card Organization'] = 'UNIONPAY'\n",
    "    df['Card interal'] = np.where(df['Card interal'].isin(['INTERREGIONAL', 'INTRAREGIONAL']), 'FOREIGN', 'DOMESTIC')\n",
    "    df['Cost'] = df['Transaction Fee'].sub(df['Service Fee profit'])\n",
    "    if file[-10:-4] < '202402':\n",
    "        try:\n",
    "            df['Transaction Time'] = pd.to_datetime(df['Transaction Time']).dt.date.map(str).str[:7]\n",
    "        except:\n",
    "            df['Transaction Time'] = pd.to_datetime(df['Transaction Time'], dayfirst=True).dt.date.map(str).str[:7]\n",
    "        df = df.groupby(['Transaction Time', 'Merchant No', 'MCC', 'SME Flag', 'Card Organization', 'Card interal'])[['Settlement Amount', 'Cost']].agg(Amount=('Settlement Amount', 'sum'), Count=('Settlement Amount', 'count'), Cost=('Cost', 'sum'))\n",
    "        monthly = pd.concat([monthly, df])\n",
    "    else:\n",
    "        try:\n",
    "            df['Transaction Time'] = pd.to_datetime(df['Transaction Time']).dt.date.map(str)\n",
    "        except:\n",
    "            df['Transaction Time'] = pd.to_datetime(df['Transaction Time'], dayfirst=True).dt.date.map(str)\n",
    "        df = df.groupby(['Transaction Time', 'Merchant No', 'MCC', 'SME Flag', 'Card Organization', 'Card interal'])[['Settlement Amount', 'Cost']].agg(Amount=('Settlement Amount', 'sum'), Count=('Settlement Amount', 'count'), Cost=('Cost', 'sum'))\n",
    "        daily = pd.concat([daily, df])"
   ]
  },
  {
   "cell_type": "markdown",
   "metadata": {},
   "source": [
    "### Merge Merchant ID into PROFIT_DETAIL"
   ]
  },
  {
   "cell_type": "code",
   "execution_count": 15,
   "metadata": {},
   "outputs": [],
   "source": [
    "monthly = monthly.reset_index().merge(mid, how='left', on='Merchant No')\n",
    "daily = daily.reset_index().merge(mid, how='left', on='Merchant No')"
   ]
  },
  {
   "cell_type": "code",
   "execution_count": 16,
   "metadata": {},
   "outputs": [
    {
     "name": "stdout",
     "output_type": "stream",
     "text": [
      "0\n",
      "0\n"
     ]
    }
   ],
   "source": [
    "print(monthly['BBPOS Merchant ID'].isna().sum())\n",
    "print(daily['BBPOS Merchant ID'].isna().sum())"
   ]
  },
  {
   "cell_type": "code",
   "execution_count": 17,
   "metadata": {},
   "outputs": [],
   "source": [
    "daily.loc[(daily['Transaction Time'].str[:7] == '2024-04') & (daily['Merchant No'] == 852999994029349), 'BBPOS Merchant ID'] = 17372"
   ]
  },
  {
   "cell_type": "markdown",
   "metadata": {},
   "source": [
    "### Create Dataframe for monthly Mdr from bbposmsl"
   ]
  },
  {
   "cell_type": "code",
   "execution_count": 18,
   "metadata": {},
   "outputs": [],
   "source": [
    "cols = ['BBPOS Merchant ID', 'MdrVisa', 'MdrVisa Foreign', 'MdrMaster', 'MdrMaster Foreign', 'MdrCUP', 'MdrJCB']\n",
    "bbpos_mdr = pd.DataFrame()\n",
    "\n",
    "for file in bbpos:\n",
    "    df = pd.read_csv(file, dtype={'Merchant No': str, 'BBPOS Merchant ID': str})\n",
    "    df = df[[c for c in df.columns if c in cols]].dropna(subset='BBPOS Merchant ID')\n",
    "    df['BBPOS Merchant ID'] = df['BBPOS Merchant ID'].map(int)\n",
    "    df[[c for c in df.columns if c != 'BBPOS Merchant ID']] = df[[c for c in df.columns if c != 'BBPOS Merchant ID']].replace('%', '', regex=True).map(float).div(100)\n",
    "    df['Transaction Time'] = file[-10:-6] + '-' + file[-6:-4]\n",
    "    bbpos_mdr = pd.concat([bbpos_mdr, df])"
   ]
  },
  {
   "cell_type": "markdown",
   "metadata": {},
   "source": [
    "### Merge Mdr (< 2024-02)"
   ]
  },
  {
   "cell_type": "code",
   "execution_count": 19,
   "metadata": {},
   "outputs": [],
   "source": [
    "monthly = monthly.merge(bbpos_mdr.drop(columns=['MdrVisa Foreign', 'MdrMaster Foreign']), how='left', on=['Transaction Time', 'BBPOS Merchant ID'])"
   ]
  },
  {
   "cell_type": "code",
   "execution_count": 20,
   "metadata": {},
   "outputs": [],
   "source": [
    "mdr_map = {'VISA': 'MdrVisa', 'MASTERCARD': 'MdrMaster', 'UNIONPAY': 'MdrCUP', 'JCB': 'MdrJCB'}\n",
    "\n",
    "for k, v in mdr_map.items():\n",
    "    monthly.loc[monthly['Card Organization'] == k, 'Mdr'] = monthly[v]"
   ]
  },
  {
   "cell_type": "code",
   "execution_count": 21,
   "metadata": {},
   "outputs": [],
   "source": [
    "no_mdr = monthly[(monthly['Mdr'].isna() | (monthly['Mdr'] == 0)) & (monthly['BBPOS Merchant ID'] != 3466)][['Transaction Time', 'BBPOS Merchant ID', 'Card Organization']]"
   ]
  },
  {
   "cell_type": "code",
   "execution_count": 22,
   "metadata": {},
   "outputs": [],
   "source": [
    "for row in no_mdr.itertuples():\n",
    "    try:\n",
    "        adjusted_mdr = bbpos_mdr.loc[(bbpos_mdr['Transaction Time'] == str(pd.to_datetime(row[1]) + pd.tseries.offsets.DateOffset(months=1))[:7]) & (bbpos_mdr['BBPOS Merchant ID'] == row[2]), mdr_map[row[3]]].item()\n",
    "        if adjusted_mdr == 0 or pd.isna(adjusted_mdr):\n",
    "            raise ValueError\n",
    "    except:\n",
    "        try:\n",
    "            adjusted_mdr = bbpos_mdr.loc[(bbpos_mdr['Transaction Time'] == str(pd.to_datetime(row[1]) - pd.tseries.offsets.DateOffset(months=1))[:7]) & (bbpos_mdr['BBPOS Merchant ID'] == row[2]), mdr_map[row[3]]].item()\n",
    "            if adjusted_mdr == 0 or pd.isna(adjusted_mdr):\n",
    "                raise ValueError\n",
    "        except:\n",
    "            print(row)\n",
    "            continue\n",
    "    monthly.loc[row[0], 'Mdr'] = adjusted_mdr"
   ]
  },
  {
   "cell_type": "code",
   "execution_count": 23,
   "metadata": {},
   "outputs": [
    {
     "data": {
      "text/html": [
       "<div>\n",
       "<style scoped>\n",
       "    .dataframe tbody tr th:only-of-type {\n",
       "        vertical-align: middle;\n",
       "    }\n",
       "\n",
       "    .dataframe tbody tr th {\n",
       "        vertical-align: top;\n",
       "    }\n",
       "\n",
       "    .dataframe thead th {\n",
       "        text-align: right;\n",
       "    }\n",
       "</style>\n",
       "<table border=\"1\" class=\"dataframe\">\n",
       "  <thead>\n",
       "    <tr style=\"text-align: right;\">\n",
       "      <th></th>\n",
       "      <th>Transaction Time</th>\n",
       "      <th>Merchant No</th>\n",
       "      <th>MCC</th>\n",
       "      <th>SME Flag</th>\n",
       "      <th>Card Organization</th>\n",
       "      <th>Card interal</th>\n",
       "      <th>Amount</th>\n",
       "      <th>Count</th>\n",
       "      <th>Cost</th>\n",
       "      <th>BBPOS Merchant ID</th>\n",
       "      <th>MdrVisa</th>\n",
       "      <th>MdrMaster</th>\n",
       "      <th>MdrCUP</th>\n",
       "      <th>MdrJCB</th>\n",
       "      <th>Mdr</th>\n",
       "    </tr>\n",
       "  </thead>\n",
       "  <tbody>\n",
       "    <tr>\n",
       "      <th>52587</th>\n",
       "      <td>2023-07</td>\n",
       "      <td>852999957320148</td>\n",
       "      <td>5732</td>\n",
       "      <td>SME</td>\n",
       "      <td>MASTERCARD</td>\n",
       "      <td>DOMESTIC</td>\n",
       "      <td>1400.0</td>\n",
       "      <td>1</td>\n",
       "      <td>13.63</td>\n",
       "      <td>2523</td>\n",
       "      <td>NaN</td>\n",
       "      <td>NaN</td>\n",
       "      <td>NaN</td>\n",
       "      <td>NaN</td>\n",
       "      <td>0.015</td>\n",
       "    </tr>\n",
       "    <tr>\n",
       "      <th>160576</th>\n",
       "      <td>2024-01</td>\n",
       "      <td>852999994022149</td>\n",
       "      <td>5814</td>\n",
       "      <td>SME</td>\n",
       "      <td>VISA</td>\n",
       "      <td>DOMESTIC</td>\n",
       "      <td>204.0</td>\n",
       "      <td>1</td>\n",
       "      <td>1.92</td>\n",
       "      <td>15012</td>\n",
       "      <td>0.0</td>\n",
       "      <td>0.0</td>\n",
       "      <td>0.0</td>\n",
       "      <td>0.0</td>\n",
       "      <td>0.014</td>\n",
       "    </tr>\n",
       "  </tbody>\n",
       "</table>\n",
       "</div>"
      ],
      "text/plain": [
       "       Transaction Time      Merchant No   MCC SME Flag Card Organization  \\\n",
       "52587           2023-07  852999957320148  5732      SME        MASTERCARD   \n",
       "160576          2024-01  852999994022149  5814      SME              VISA   \n",
       "\n",
       "       Card interal  Amount  Count   Cost  BBPOS Merchant ID  MdrVisa  \\\n",
       "52587      DOMESTIC  1400.0      1  13.63               2523      NaN   \n",
       "160576     DOMESTIC   204.0      1   1.92              15012      0.0   \n",
       "\n",
       "        MdrMaster  MdrCUP  MdrJCB    Mdr  \n",
       "52587         NaN     NaN     NaN  0.015  \n",
       "160576        0.0     0.0     0.0  0.014  "
      ]
     },
     "execution_count": 23,
     "metadata": {},
     "output_type": "execute_result"
    }
   ],
   "source": [
    "monthly.loc[no_mdr.index]"
   ]
  },
  {
   "cell_type": "code",
   "execution_count": 24,
   "metadata": {},
   "outputs": [],
   "source": [
    "monthly['Revenue'] = monthly['Amount'].mul(monthly['Mdr'])"
   ]
  },
  {
   "cell_type": "markdown",
   "metadata": {},
   "source": [
    "### Create Dataframe for daily Mdr from MDR"
   ]
  },
  {
   "cell_type": "code",
   "execution_count": 25,
   "metadata": {},
   "outputs": [],
   "source": [
    "cols = ['transaction_date', 'merchant_id', 'VISA DOMESTIC', 'VISA FOREIGN', 'MASTER DOMESTIC', 'MASTER FOREIGN', 'UNIONPAY DOMESTIC', 'JCB DOMESTIC']\n",
    "daily_mdr = pd.DataFrame()\n",
    "\n",
    "for file in mdr:\n",
    "    df = pd.read_csv(file, usecols=cols)\n",
    "    daily_mdr = pd.concat([daily_mdr, df])\n",
    "\n",
    "daily_mdr.rename(columns={'transaction_date': 'Transaction Time', 'merchant_id': 'BBPOS Merchant ID'}, inplace=True)"
   ]
  },
  {
   "cell_type": "code",
   "execution_count": 26,
   "metadata": {},
   "outputs": [],
   "source": [
    "daily_mdr['VISA FOREIGN'] = daily_mdr['VISA FOREIGN'].fillna(daily_mdr['VISA DOMESTIC'])\n",
    "daily_mdr['VISA DOMESTIC'] = daily_mdr['VISA DOMESTIC'].fillna(daily_mdr['VISA FOREIGN'])\n",
    "daily_mdr['MASTER FOREIGN'] = daily_mdr['MASTER FOREIGN'].fillna(daily_mdr['MASTER DOMESTIC'])\n",
    "daily_mdr['MASTER DOMESTIC'] = daily_mdr['MASTER DOMESTIC'].fillna(daily_mdr['MASTER FOREIGN'])"
   ]
  },
  {
   "cell_type": "markdown",
   "metadata": {},
   "source": [
    "### Merge Mdr (>= 2024-02)"
   ]
  },
  {
   "cell_type": "code",
   "execution_count": 27,
   "metadata": {},
   "outputs": [],
   "source": [
    "daily1 = daily[(daily['Transaction Time'] >= '2024-02-01') & (daily['Transaction Time'] <= '2024-02-05')]\n",
    "daily2 = daily[daily['Transaction Time'] >= '2024-02-06']"
   ]
  },
  {
   "cell_type": "code",
   "execution_count": 28,
   "metadata": {},
   "outputs": [],
   "source": [
    "cols_map = {'MdrVisa': 'VISA DOMESTIC', 'MdrVisa Foreign': 'VISA FOREIGN', 'MdrMaster': 'MASTER DOMESTIC', 'MdrMaster Foreign': 'MASTER FOREIGN', 'MdrCUP': 'UNIONPAY DOMESTIC', 'MdrJCB': 'JCB DOMESTIC'}\n",
    "\n",
    "bbpos_mdr_2401 = bbpos_mdr[bbpos_mdr['Transaction Time'] == '2024-01'].drop(columns='Transaction Time').rename(columns=cols_map)\n",
    "bbpos_mdr_2401 = bbpos_mdr_2401.fillna({'VISA FOREIGN': bbpos_mdr_2401['VISA DOMESTIC'], 'MASTER FOREIGN': bbpos_mdr_2401['MASTER DOMESTIC']})\n",
    "\n",
    "daily1 = daily1.merge(bbpos_mdr_2401, how='left', on='BBPOS Merchant ID')\n",
    "daily2 = daily2.reset_index().merge(daily_mdr, how='left', on=['Transaction Time', 'BBPOS Merchant ID']).set_index('index')"
   ]
  },
  {
   "cell_type": "code",
   "execution_count": 29,
   "metadata": {},
   "outputs": [],
   "source": [
    "daily = pd.concat([daily1, daily2])"
   ]
  },
  {
   "cell_type": "code",
   "execution_count": 30,
   "metadata": {},
   "outputs": [],
   "source": [
    "for k in mdr_map:\n",
    "    if k in ['VISA', 'MASTERCARD']:\n",
    "        for i in ['DOMESTIC', 'FOREIGN']:\n",
    "            daily.loc[(daily['Card Organization'] == k) & (daily['Card interal'] == i), 'Mdr'] = daily[f'{k[:6]} {i}']\n",
    "    else:\n",
    "        daily.loc[daily['Card Organization'] == k, 'Mdr'] = daily[f'{k} DOMESTIC']"
   ]
  },
  {
   "cell_type": "code",
   "execution_count": 31,
   "metadata": {},
   "outputs": [],
   "source": [
    "no_mdr = daily[(daily['Mdr'].isna() | (daily['Mdr'] == 0)) & (daily['BBPOS Merchant ID'] != 3466)][['Transaction Time', 'BBPOS Merchant ID', 'Card Organization', 'Card interal']]"
   ]
  },
  {
   "cell_type": "code",
   "execution_count": 32,
   "metadata": {},
   "outputs": [],
   "source": [
    "cols_map_swap = {v: k for k, v in cols_map.items()}\n",
    "for row in no_mdr.itertuples():\n",
    "    try:\n",
    "        if row[3] == 'MASTERCARD':\n",
    "            card_type = row[3][:6]\n",
    "        else:\n",
    "            card_type = row[3]\n",
    "        adjusted_mdr = bbpos_mdr.loc[(bbpos_mdr['Transaction Time'] == row[1][:7]) & (bbpos_mdr['BBPOS Merchant ID'] == row[2]), cols_map_swap[f'{card_type} {row[4]}']].item()\n",
    "        if adjusted_mdr == 0 or pd.isna(adjusted_mdr):\n",
    "            raise ValueError\n",
    "    except:\n",
    "        print(row)\n",
    "        continue\n",
    "    daily.loc[row[0], 'Mdr'] = adjusted_mdr"
   ]
  },
  {
   "cell_type": "code",
   "execution_count": 33,
   "metadata": {},
   "outputs": [
    {
     "data": {
      "text/html": [
       "<div>\n",
       "<style scoped>\n",
       "    .dataframe tbody tr th:only-of-type {\n",
       "        vertical-align: middle;\n",
       "    }\n",
       "\n",
       "    .dataframe tbody tr th {\n",
       "        vertical-align: top;\n",
       "    }\n",
       "\n",
       "    .dataframe thead th {\n",
       "        text-align: right;\n",
       "    }\n",
       "</style>\n",
       "<table border=\"1\" class=\"dataframe\">\n",
       "  <thead>\n",
       "    <tr style=\"text-align: right;\">\n",
       "      <th></th>\n",
       "      <th>Transaction Time</th>\n",
       "      <th>Merchant No</th>\n",
       "      <th>MCC</th>\n",
       "      <th>SME Flag</th>\n",
       "      <th>Card Organization</th>\n",
       "      <th>Card interal</th>\n",
       "      <th>Amount</th>\n",
       "      <th>Count</th>\n",
       "      <th>Cost</th>\n",
       "      <th>BBPOS Merchant ID</th>\n",
       "      <th>VISA DOMESTIC</th>\n",
       "      <th>MASTER DOMESTIC</th>\n",
       "      <th>UNIONPAY DOMESTIC</th>\n",
       "      <th>JCB DOMESTIC</th>\n",
       "      <th>VISA FOREIGN</th>\n",
       "      <th>MASTER FOREIGN</th>\n",
       "      <th>Mdr</th>\n",
       "    </tr>\n",
       "  </thead>\n",
       "  <tbody>\n",
       "    <tr>\n",
       "      <th>159372</th>\n",
       "      <td>2024-03-07</td>\n",
       "      <td>852999956910388</td>\n",
       "      <td>5691</td>\n",
       "      <td>SME</td>\n",
       "      <td>MASTERCARD</td>\n",
       "      <td>DOMESTIC</td>\n",
       "      <td>900.0</td>\n",
       "      <td>1</td>\n",
       "      <td>8.89</td>\n",
       "      <td>11930</td>\n",
       "      <td>0.015</td>\n",
       "      <td>NaN</td>\n",
       "      <td>NaN</td>\n",
       "      <td>NaN</td>\n",
       "      <td>0.015</td>\n",
       "      <td>NaN</td>\n",
       "      <td>0.015</td>\n",
       "    </tr>\n",
       "  </tbody>\n",
       "</table>\n",
       "</div>"
      ],
      "text/plain": [
       "       Transaction Time      Merchant No   MCC SME Flag Card Organization  \\\n",
       "159372       2024-03-07  852999956910388  5691      SME        MASTERCARD   \n",
       "\n",
       "       Card interal  Amount  Count  Cost  BBPOS Merchant ID  VISA DOMESTIC  \\\n",
       "159372     DOMESTIC   900.0      1  8.89              11930          0.015   \n",
       "\n",
       "        MASTER DOMESTIC  UNIONPAY DOMESTIC  JCB DOMESTIC  VISA FOREIGN  \\\n",
       "159372              NaN                NaN           NaN         0.015   \n",
       "\n",
       "        MASTER FOREIGN    Mdr  \n",
       "159372             NaN  0.015  "
      ]
     },
     "execution_count": 33,
     "metadata": {},
     "output_type": "execute_result"
    }
   ],
   "source": [
    "daily.loc[no_mdr.index]"
   ]
  },
  {
   "cell_type": "code",
   "execution_count": 34,
   "metadata": {},
   "outputs": [],
   "source": [
    "daily['Revenue'] = daily['Amount'].mul(daily['Mdr'])"
   ]
  },
  {
   "cell_type": "markdown",
   "metadata": {},
   "source": [
    "### Combine two parts"
   ]
  },
  {
   "cell_type": "code",
   "execution_count": 37,
   "metadata": {},
   "outputs": [],
   "source": [
    "monthly = monthly.groupby(['Transaction Time', 'BBPOS Merchant ID', 'MCC', 'SME Flag', 'Card Organization', 'Card interal'])[['Amount', 'Count', 'Cost', 'Revenue']].sum()\n",
    "daily = daily.groupby([daily['Transaction Time'].str[:7], 'BBPOS Merchant ID', 'MCC', 'SME Flag', 'Card Organization', 'Card interal'])[['Amount', 'Count', 'Cost', 'Revenue']].sum()"
   ]
  },
  {
   "cell_type": "code",
   "execution_count": 38,
   "metadata": {},
   "outputs": [],
   "source": [
    "result = pd.concat([monthly, daily]).reset_index()"
   ]
  },
  {
   "cell_type": "code",
   "execution_count": 39,
   "metadata": {},
   "outputs": [],
   "source": [
    "result.loc[result['BBPOS Merchant ID'] == 3466, 'Revenue'] = result['Count']"
   ]
  },
  {
   "cell_type": "code",
   "execution_count": 40,
   "metadata": {},
   "outputs": [],
   "source": [
    "result['Net Profit'] = result['Revenue'].sub(result['Cost'])"
   ]
  },
  {
   "cell_type": "code",
   "execution_count": 41,
   "metadata": {},
   "outputs": [],
   "source": [
    "result.to_csv('AIP Month.csv', index=False)"
   ]
  }
 ],
 "metadata": {
  "kernelspec": {
   "display_name": "bbmsl",
   "language": "python",
   "name": "python3"
  },
  "language_info": {
   "codemirror_mode": {
    "name": "ipython",
    "version": 3
   },
   "file_extension": ".py",
   "mimetype": "text/x-python",
   "name": "python",
   "nbconvert_exporter": "python",
   "pygments_lexer": "ipython3",
   "version": "3.12.3"
  }
 },
 "nbformat": 4,
 "nbformat_minor": 2
}
